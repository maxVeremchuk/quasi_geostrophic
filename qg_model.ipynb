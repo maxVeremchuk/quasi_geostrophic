{
 "cells": [
  {
   "cell_type": "code",
   "execution_count": null,
   "metadata": {},
   "outputs": [],
   "source": [
    "import numpy as np\n",
    "import matplotlib.pyplot as plt"
   ]
  },
  {
   "cell_type": "code",
   "execution_count": null,
   "metadata": {},
   "outputs": [],
   "source": [
    "np.random.seed(3)  # For reproducibility.\n",
    "\n",
    "f0 = 12\n",
    "beta = 0*1.728e-3\n",
    "r = 0\n",
    "rek = 1  # R_2 in report\n",
    "L = 400\n",
    "W = 400\n",
    "Ltop = 25\n",
    "Htop = 0\n",
    "\n",
    "# dt is in terms of days.\n",
    "dt = 0.005#1 / 108\n",
    "\n",
    "# Note tpl should be an integer. This is how often the model state is saved\n",
    "# in terms of multiples of dt. Every day  for example  would be 1/dt.\n",
    "# tpl = 1  # Use this for running the sea ice model.\n",
    "tpl = int(1 / dt)  # Use this for generating a long time series for calibrating the stochastic model.\n",
    "\n",
    "tmax = 100#365 + 365  # Adjust t_min in qg2p_ps_step_save_ph1.m\n",
    "# Currently t_min is set to 365  which is why 365 is added here.\n",
    "\n",
    "Rd = 5.7  # Ld in report\n",
    "del_val = 0.8\n",
    "\n",
    "U1 = 0.03 * (1e-3 * 0.86e5)  # km/day\n",
    "U2 = 0.012 * (1e-3 * 0.86e5)\n",
    "\n",
    "kappa = 0\n",
    "\n",
    "nx = 128\n",
    "ny = 128\n",
    "dx = L / nx\n",
    "dy = W / ny\n",
    "\n",
    "k0x = 2 * np.pi / L\n",
    "k0y = 2 * np.pi / W\n",
    "\n",
    "k0=2*np.pi/nx/dx;"
   ]
  },
  {
   "cell_type": "code",
   "execution_count": null,
   "metadata": {},
   "outputs": [],
   "source": [
    "k,  l = np.meshgrid(np.concatenate((np.arange(0 , nx // 2 + 1) , np.arange(-nx // 2 + 1 , 0))) * k0x ,\n",
    "                   np.concatenate((np.arange(0 , ny // 2 + 1) , np.arange(-ny // 2 + 1  ,0))) * k0y)\n"
   ]
  },
  {
   "cell_type": "code",
   "execution_count": null,
   "metadata": {},
   "outputs": [],
   "source": [
    "F1 = 1 / Rd ** 2 / (1 + del_val)\n",
    "F2 = del_val * F1\n",
    "\n",
    "beta1 = beta + F1 * (U1 - U2)  # ∂q1/∂y\n",
    "beta2 = beta - F2 * (U1 - U2)\n",
    "\n",
    "wv2 = (k * k + l * l)\n",
    "det = wv2 * (wv2 + F1 + F2)\n",
    "a11 = -(wv2 + F2) / det\n",
    "a12 = -F1 / det\n",
    "a21 = -F2 / det\n",
    "a22 = -(wv2 + F1) / det\n"
   ]
  },
  {
   "cell_type": "code",
   "execution_count": null,
   "metadata": {},
   "outputs": [],
   "source": [
    "\n",
    "a11[0,0]=0\n",
    "a12[0,0]=0\n",
    "a21[0,0]=0\n",
    "a22[0,0]=0\n"
   ]
  },
  {
   "cell_type": "code",
   "execution_count": null,
   "metadata": {},
   "outputs": [],
   "source": [
    "\n",
    "#,x,,y,=,np.meshgrid(np.arange(1,/,2,,nx,+,1),/,nx,*,L,-,L,/,2,,np.arange(1,/,2,,ny,+,1),/,ny,*,W,-,W,/,2)\n",
    "#,[x,y]=meshgrid([1/2:1:nx]/nx*L-L/2,[1/2:1:ny]/ny*W-W/2);\n",
    "x, y = np.meshgrid((np.arange(1 / 2, nx) / nx * L) - L / 2,  (np.arange(1 / 2, ny) / ny * W) - W / 2)\n"
   ]
  },
  {
   "cell_type": "code",
   "execution_count": null,
   "metadata": {},
   "outputs": [],
   "source": [
    "q1 = 0\n",
    "q2 = 0\n",
    "\n",
    "n_k_rand = 10\n",
    "n_min = 1\n",
    "\n",
    "ik = np.concatenate((np.random.randint(n_min , nx + 1 , n_k_rand) , -np.random.randint(n_min , nx + 1 , n_k_rand)))\n",
    "il = np.concatenate((np.random.randint(n_min , ny + 1 , n_k_rand),  -np.random.randint(n_min , ny + 1 , n_k_rand)))\n"
   ]
  },
  {
   "cell_type": "code",
   "execution_count": null,
   "metadata": {},
   "outputs": [],
   "source": [
    "# np.save('q1.npy', q1)\n",
    "# np.save('q2.npy', q2)"
   ]
  },
  {
   "cell_type": "code",
   "execution_count": null,
   "metadata": {},
   "outputs": [],
   "source": [
    "q1 = 0\n",
    "q2 = 0\n",
    "for i in ik:\n",
    "    for j in il:\n",
    "        k_amp = np.sqrt(i ** 2 + j ** 2)\n",
    "        q1 += np.random.rand() * k_amp ** (-2) * np.cos(i * k0 * x + j * k0 * y + 2 * np.pi * np.random.rand())\n",
    "        q2 += np.random.rand() * k_amp ** (-2) * np.cos(i * k0 * x + j * k0 * y + 2 * np.pi * np.random.rand())\n"
   ]
  },
  {
   "cell_type": "code",
   "execution_count": null,
   "metadata": {},
   "outputs": [],
   "source": [
    "\n",
    "amp_factor = 0.1\n",
    "\n",
    "q1 = q1 - np.mean(q1)\n",
    "q1 = amp_factor * 1.5 * f0 * q1 / np.max(np.abs(q1))\n",
    "q2 = q2 - np.mean(q2)\n",
    "q2 = amp_factor * 1.5 * f0 * del_val * q2 / np.max(np.abs(q2))\n",
    "\n"
   ]
  },
  {
   "cell_type": "code",
   "execution_count": null,
   "metadata": {},
   "outputs": [],
   "source": [
    "plt.figure(figsize=(20,20))\n",
    "plt.subplot(1,2,1)\n",
    "plt.imshow(q1)\n",
    "plt.colorbar()\n"
   ]
  },
  {
   "cell_type": "code",
   "execution_count": null,
   "metadata": {},
   "outputs": [],
   "source": [
    "np.save('phi1.npy', np.real(np.fft.ifft2(ph1)))"
   ]
  },
  {
   "cell_type": "code",
   "execution_count": null,
   "metadata": {},
   "outputs": [],
   "source": [
    "np.save('phi2.npy', np.real(np.fft.ifft2(ph2)))"
   ]
  },
  {
   "cell_type": "code",
   "execution_count": null,
   "metadata": {},
   "outputs": [],
   "source": [
    "wvx = np.sqrt((k * dx) ** 2 + (l * dy) ** 2)\n",
    "\n",
    "kmax2 = ((nx / 2 - 1) * k0x) ** 2\n",
    "minK2 = (0 * k0x) ** 2\n",
    "trunc = (wv2 < kmax2) * (wv2 > minK2)"
   ]
  },
  {
   "cell_type": "code",
   "execution_count": null,
   "metadata": {},
   "outputs": [],
   "source": [
    "plt.imshow(trunc)"
   ]
  },
  {
   "cell_type": "code",
   "execution_count": null,
   "metadata": {},
   "outputs": [],
   "source": [
    "t = 0\n",
    "tc = 0\n",
    "\n",
    "psimax = []\n",
    "ts = []\n",
    "stat = []\n",
    "\n",
    "qh1 = np.fft.fft2(q1)\n",
    "qh2 = np.fft.fft2(q2)\n",
    "\n",
    "dqh1dt_p = 0\n",
    "dqh2dt_p = 0\n",
    "dt0 = dt\n",
    "dt1 = 0\n",
    "\n",
    "U_data = []\n",
    "V_data = []\n",
    "\n",
    "k0 = 2 * np.pi / nx / dx\n",
    "\n",
    "amp = 0\n",
    "phase = 0\n",
    "stat_eke = []\n",
    "k_save = 1\n",
    "k_max = int(tmax / (tpl * dt))\n",
    "k_min = int(365 / (tpl * dt))  # Use a large k_min to get into the equilibrium state.\n",
    "# k_min = 0\n",
    "# PH1 = np.zeros((k_max - k_min, nx, ny))\n",
    "\n",
    "R_quadratic_top = 8e-3 / 30  # 1/km\n",
    "R_quadratic_bottom = 2e-3 / 100  # 1/km\n"
   ]
  },
  {
   "cell_type": "code",
   "execution_count": null,
   "metadata": {},
   "outputs": [],
   "source": [
    "frc=np.exp(-kappa*dt*wv2-r*dt)"
   ]
  },
  {
   "cell_type": "code",
   "execution_count": null,
   "metadata": {},
   "outputs": [],
   "source": [
    "\n",
    "if nx == 128:\n",
    "    cphi = 0.69 * np.pi\n",
    "elif nx == 256:\n",
    "    cphi = 0.715 * np.pi\n",
    "elif nx == 512:\n",
    "    cphi = 0.735 * np.pi\n",
    "else:\n",
    "    cphi = 0.65 * np.pi\n",
    "\n",
    "wvx = np.sqrt((k * dx) ** 2 + (l * dy) ** 2)\n",
    "filtr = np.exp(-18 * (wvx - cphi) ** 7) * (wvx > cphi) + (wvx <= cphi)\n"
   ]
  },
  {
   "cell_type": "code",
   "execution_count": null,
   "metadata": {},
   "outputs": [],
   "source": [
    "def topog(x, y, L, W, Ltop, amp):\n",
    "    top = amp * np.exp(-0.5 / Ltop**2 * ((x + L / 4)**2 + y**2))\n",
    "    return top\n"
   ]
  },
  {
   "cell_type": "code",
   "execution_count": null,
   "metadata": {},
   "outputs": [],
   "source": [
    "def advect(q, u, v, k, l):\n",
    "    qdot = 1j * k * np.fft.fft2(u * q) + 1j * l * np.fft.fft2(v * q)\n",
    "    return qdot"
   ]
  },
  {
   "cell_type": "code",
   "execution_count": null,
   "metadata": {},
   "outputs": [],
   "source": [
    "def invert(zh1, zh2, a11, a12, a21, a22):\n",
    "    ph1 = a11 * zh1 + a12 * zh2\n",
    "    ph2 = a21 * zh1 + a22 * zh2\n",
    "    return ph1, ph2\n"
   ]
  },
  {
   "cell_type": "code",
   "execution_count": null,
   "metadata": {},
   "outputs": [],
   "source": [
    "def caluv(ph, k, l, trunc):\n",
    "    u = -np.real(np.fft.ifft2(1j * l * ph ))\n",
    "    v = np.real(np.fft.ifft2(1j * k * ph ))\n",
    "    return u, v\n"
   ]
  },
  {
   "cell_type": "code",
   "execution_count": null,
   "metadata": {},
   "outputs": [],
   "source": [
    " # ![title](./img/gq_model.jpg)"
   ]
  },
  {
   "cell_type": "code",
   "execution_count": null,
   "metadata": {},
   "outputs": [],
   "source": [
    "q1_copy = q1.copy()\n",
    "q2_copy = q2.copy()"
   ]
  },
  {
   "cell_type": "markdown",
   "metadata": {},
   "source": [
    " # ![title](./img/gq_model.jpg)"
   ]
  },
  {
   "cell_type": "markdown",
   "metadata": {},
   "source": [
    " # ![title](./img/gq_model_fourier.jpg)"
   ]
  },
  {
   "cell_type": "code",
   "execution_count": null,
   "metadata": {},
   "outputs": [],
   "source": [
    "ph1, ph2 = invert(qh1, qh2, a11, a12, a21, a22)\n",
    "plt.imshow(np.real(np.fft.ifft2(ph1)))"
   ]
  },
  {
   "cell_type": "code",
   "execution_count": null,
   "metadata": {},
   "outputs": [],
   "source": [
    "filterfac=23.6\n",
    "filter = np.exp(-filterfac*(wvx-cphi)**4.)\n",
    "filter[wvx<=cphi] = 1."
   ]
  },
  {
   "cell_type": "code",
   "execution_count": null,
   "metadata": {},
   "outputs": [],
   "source": [
    "t = 0\n",
    "k_save = 0"
   ]
  },
  {
   "cell_type": "code",
   "execution_count": null,
   "metadata": {},
   "outputs": [],
   "source": [
    "while t <= 100:#tmax + dt / 2:\n",
    "\n",
    "    q1 = np.real(np.fft.ifft2(qh1))\n",
    "    q2 = np.real(np.fft.ifft2(qh2))\n",
    "    # print('q1', q1[0][1])\n",
    "    \n",
    "    # if (~np.isfinite(q1).any()):\n",
    "    #     print('q1', t, q1)\n",
    "    #     break\n",
    "\n",
    "    ph1, ph2 = invert(qh1, qh2, a11, a12, a21, a22)\n",
    "    # print('ph1', ph1[0][1])\n",
    "    # if (~np.isfinite(ph1).any()):\n",
    "    #     print('ph1', t, ph1)\n",
    "    #     break\n",
    "    u1, v1 = caluv(ph1, k, l, trunc)\n",
    "    u2, v2 = caluv(ph2, k, l, trunc)\n",
    "    # print('u1',u1[0][1])\n",
    "\n",
    "    u_top = np.sqrt(u1 ** 2 + v1 ** 2)\n",
    "    drag_top = R_quadratic_top * (1j * k * np.fft.fft2(u_top * v1) - 1j * l * np.fft.fft2(u_top * u1))\n",
    "\n",
    "    # u_bottom = np.sqrt(u2 ** 2 + v2 ** 2)\n",
    "    # drag_bottom = R_quadratic_bottom * (1j * k * np.fft.fft2(u_bottom * v2) - 1j * l * np.fft.fft2(u_bottom * u2))\n",
    "\n",
    "    dqh1dt = -advect(q1, u1 + U1, v1, k, l) - beta1 * 1j * k * ph1 #- drag_top # 1j * k * U1 * qh1  - 1j * k * U1 * qh1\n",
    "    dqh2dt = -advect(q2, u2 + U2, v2, k, l) - beta2 * 1j * k * ph2  + rek * wv2 * ph2#- 1j * k * U2 * qh2  - 1j * k * U2 * qh2\n",
    "    # print('dqh2dt', dqh2dt[0][1])\n",
    "    # if (~np.isfinite(dqh1dt).any()):\n",
    "    #     print('dqh1dt', t, dqh1dt)\n",
    "    #     break\n",
    "\n",
    "    if tc % tpl == 0:\n",
    "        print(t, '/', tmax)\n",
    "        # print(k_save, k_max, k_min)\n",
    "        if k_save <= k_max and k_save > 0:\n",
    "            # PH1[k_save - k_min, :, :] = ph1\n",
    "            # print(qh1)\n",
    "            \n",
    "            # plt.imshow(np.real(np.fft.ifft2(ph1)))\n",
    "            # plt.show()\n",
    "            plt.imshow(q1)\n",
    "            plt.show()\n",
    "            # plt.savefig(f'./img/gq/{tc}.png', \n",
    "            #     transparent = False,  \n",
    "            #     facecolor = 'white'\n",
    "            #    )\n",
    "            # plt.close()\n",
    "            pass\n",
    "            # if k_save == k_max:\n",
    "            #     np.savez('PH1_ocn.npz', PH1=PH1, x=x, y=y, trunc=trunc)\n",
    "        k_save += 1\n",
    "\n",
    "    # zeta = np.real(np.fft.ifft2(-wv2 * ph1))\n",
    "\n",
    "    # max_Ro = np.max(np.abs(zeta.flatten() / f0))\n",
    "\n",
    "    # if tc % (max(1, int(1 / max_Ro)) * tpl) == 0:\n",
    "    #     ts.append(t)\n",
    "\n",
    "    #     psi1 = np.real(np.fft.ifft2(ph1))\n",
    "    #     zeta = np.real(np.fft.ifft2(-wv2 * ph1))\n",
    "\n",
    "    #     stat.append(np.std(zeta.flatten() / f0))\n",
    "    #     stat_eke.append(np.mean(np.mean((u1 ** 2 + v1 ** 2) / 2)))\n",
    "\n",
    "    qh1 = frc * filter * (qh1 + dt0 * dqh1dt + dt1 * dqh1dt_p)\n",
    "    qh2 = frc * filter * (qh2 + dt0 * dqh2dt + dt1 * dqh2dt_p)\n",
    "    # qh1 += dt0 * dqh1dt * filtr\n",
    "    # qh2 += dt0 * dqh2dt * filtr\n",
    "    # print('qh1', qh1[0][1])\n",
    "\n",
    "    dqh1dt_p = frc * dqh1dt\n",
    "    dqh2dt_p = frc * dqh2dt\n",
    "\n",
    "    if tc == 0:\n",
    "        dt0 = 1.5 * dt\n",
    "        dt1 = -0.5 * dt\n",
    "    tc += 1\n",
    "    t += dt\n",
    "    # print('=======================')"
   ]
  },
  {
   "cell_type": "code",
   "execution_count": null,
   "metadata": {},
   "outputs": [],
   "source": [
    "import imageio"
   ]
  },
  {
   "cell_type": "code",
   "execution_count": null,
   "metadata": {},
   "outputs": [],
   "source": [
    "frames = []\n",
    "for t in range(0,78732 + tpl,tpl):\n",
    "    image = imageio.imread(f'./img/gq/{t}.png')\n",
    "    frames.append(image)"
   ]
  },
  {
   "cell_type": "code",
   "execution_count": null,
   "metadata": {},
   "outputs": [],
   "source": [
    "imageio.mimsave('./gq.gif',\n",
    "                frames, \n",
    "                fps = 15)  "
   ]
  },
  {
   "cell_type": "code",
   "execution_count": null,
   "metadata": {},
   "outputs": [],
   "source": []
  },
  {
   "cell_type": "code",
   "execution_count": null,
   "metadata": {},
   "outputs": [],
   "source": []
  },
  {
   "cell_type": "code",
   "execution_count": null,
   "metadata": {},
   "outputs": [],
   "source": []
  },
  {
   "cell_type": "code",
   "execution_count": null,
   "metadata": {},
   "outputs": [],
   "source": [
    "import pyqg"
   ]
  },
  {
   "cell_type": "code",
   "execution_count": null,
   "metadata": {},
   "outputs": [],
   "source": [
    "m = pyqg.QGModel(beta=beta, rd=Rd, delta=del_val, H1=25, U1=U1, U2=U2,nx=nx, rek=rek, L=L, dt = 0.005, tmax= 200)"
   ]
  },
  {
   "cell_type": "code",
   "execution_count": null,
   "metadata": {},
   "outputs": [],
   "source": [
    "m.set_q(np.vstack([q1[np.newaxis,:,:], q2[np.newaxis,:,:]]))"
   ]
  },
  {
   "cell_type": "code",
   "execution_count": null,
   "metadata": {},
   "outputs": [],
   "source": [
    "plt.rcParams['image.cmap'] = 'RdBu'\n",
    "plt.clf()\n",
    "p1 = plt.imshow(m.q[0].squeeze())\n",
    "plt.show()\n"
   ]
  },
  {
   "cell_type": "code",
   "execution_count": null,
   "metadata": {},
   "outputs": [],
   "source": [
    "for snapshot in m.run_with_snapshots(tsnapstart=0, tsnapint=2000*m.dt):\n",
    "    plt.clf()\n",
    "    p1 = plt.imshow(m.q[0].squeeze())\n",
    "    plt.show()\n"
   ]
  },
  {
   "cell_type": "code",
   "execution_count": null,
   "metadata": {},
   "outputs": [],
   "source": []
  }
 ],
 "metadata": {
  "kernelspec": {
   "display_name": "Python 3.8.12 ('base')",
   "language": "python",
   "name": "python3"
  },
  "language_info": {
   "codemirror_mode": {
    "name": "ipython",
    "version": 3
   },
   "file_extension": ".py",
   "mimetype": "text/x-python",
   "name": "python",
   "nbconvert_exporter": "python",
   "pygments_lexer": "ipython3",
   "version": "3.8.12"
  },
  "orig_nbformat": 4,
  "vscode": {
   "interpreter": {
    "hash": "e5968b5040b5ad352cfbb4ff25bb1bcaf98d7df2ec40bbe97243e74cb50ceb66"
   }
  }
 },
 "nbformat": 4,
 "nbformat_minor": 2
}
